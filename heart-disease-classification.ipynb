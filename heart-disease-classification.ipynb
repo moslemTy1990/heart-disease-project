{
 "cells": [
  {
   "cell_type": "markdown",
   "source": [
    "# Predicting heart disease using machine learning\n",
    "This notebook looks into using many Python-based and data science libraries in an attempt to build a machine learning model to predict heart disease. In order to run successfully the program, the following command needs to be run for having the proper env: `conda env create --prefix ./env -f environment.yml`\n",
    "The following approach will be taken:\n",
    "1. Problem definition\n",
    "2. Data\n",
    "3. Evaluaiton\n",
    "4. Features\n",
    "5. Modelling\n",
    "6. Experimentaiton"
   ],
   "metadata": {
    "collapsed": false
   }
  },
  {
   "cell_type": "markdown",
   "source": [
    "## 1. Problem Definition\n",
    "Given a clinical dataset, can we predict if someone has heart disease?\n",
    "\n",
    "\n",
    "## 2. Data\n",
    "* Column Descriptions:\n",
    "* Id (Unique id for each patient)\n",
    "* Age (Age of the patient in years)\n",
    "* Origin (place of study)\n",
    "* Sex (Male/Female)\n",
    "* Cp chest pain type ([typical angina, atypical angina, non-anginal, asymptomatic])\n",
    "* Trestbps resting blood pressure (resting blood pressure (in mm Hg on admission to the hospital))\n",
    "* Chol (serum cholesterol in mg/dl)\n",
    "* Fbs (if fasting blood sugar > 120 mg/dl)\n",
    "* Restecg (resting electrocardiographic results)\n",
    "* -- Values: [normal, stt abnormality, lv hypertrophy]\n",
    "* Thalach: maximum heart rate achieved\n",
    "* Exang: exercise-induced angina (True/ False)\n",
    "* Oldpeak: ST depression induced by exercise relative to rest\n",
    "* Slope: the slope of the peak exercise ST segment\n",
    "* Ca: number of major vessels (0-3) colored by fluoroscopy\n",
    "* Thal: [normal; fixed defect; reversible defect]\n",
    "* Num: the predicted attribute\n",
    "\n",
    "The original data comes from Kaggle: https://www.kaggle.com/datasets/redwankarimsony/heart-disease-data\n",
    "\n",
    "\n",
    "## 3. Evaluation\n",
    "Checking is the accuracy of prediction can reach to 95%\n",
    "\n",
    "\n",
    "## 4. Features\n",
    "Creating a data dictionary\n"
   ],
   "metadata": {
    "collapsed": false
   }
  },
  {
   "cell_type": "code",
   "execution_count": 71,
   "outputs": [
    {
     "name": "stderr",
     "output_type": "stream",
     "text": [
      "UsageError: Line magic function `%` not found.\n"
     ]
    }
   ],
   "source": [
    "import numpy as np\n",
    "import pandas as pd\n",
    "import matplotlib.pyplot as plt\n",
    "import seaborn as sns\n",
    "\n",
    "% matplotlib inline"
   ],
   "metadata": {
    "collapsed": false
   }
  },
  {
   "cell_type": "code",
   "execution_count": null,
   "outputs": [],
   "source": [
    "from sklearn.linear_model import LogisticRegression\n",
    "from sklearn.neighbors import KNeighborsClassifier\n",
    "from sklearn.ensemble import RandomForestClassifier"
   ],
   "metadata": {
    "collapsed": false
   }
  },
  {
   "cell_type": "code",
   "execution_count": null,
   "outputs": [],
   "source": [
    "from sklearn.model_selection import train_test_split, cross_val_score\n",
    "from sklearn.model_selection import RandomizedSearchCV, GridSearchCV\n",
    "from sklearn.metrics import confusion_matrix, classification_report\n",
    "from sklearn.metrics import precision_score, recall_score, f1_score\n",
    "from sklearn.metrics import plot_roc_curve"
   ],
   "metadata": {
    "collapsed": false
   }
  },
  {
   "cell_type": "code",
   "execution_count": null,
   "outputs": [],
   "source": [
    "df = pd.read_csv(\"heart-disease.csv\")\n",
    "df.head()"
   ],
   "metadata": {
    "collapsed": false
   }
  },
  {
   "cell_type": "code",
   "execution_count": null,
   "outputs": [],
   "source": [
    "df.shape  # raws and columns"
   ],
   "metadata": {
    "collapsed": false
   }
  },
  {
   "cell_type": "code",
   "execution_count": null,
   "outputs": [],
   "source": [
    "# Data exploration\n",
    "df.tail()"
   ],
   "metadata": {
    "collapsed": false
   }
  },
  {
   "cell_type": "code",
   "execution_count": null,
   "outputs": [],
   "source": [
    "df[\"target\"].value_counts()"
   ],
   "metadata": {
    "collapsed": false
   }
  },
  {
   "cell_type": "code",
   "execution_count": null,
   "outputs": [],
   "source": [
    "#number of classes\n",
    "df.target.value_counts()"
   ],
   "metadata": {
    "collapsed": false
   }
  },
  {
   "cell_type": "code",
   "execution_count": null,
   "outputs": [],
   "source": [
    "df.target.value_counts().plot(kind=\"bar\", color=[\"salmon\", \"blue\"])"
   ],
   "metadata": {
    "collapsed": false
   }
  },
  {
   "cell_type": "code",
   "execution_count": null,
   "outputs": [],
   "source": [
    "df.info()"
   ],
   "metadata": {
    "collapsed": false
   }
  },
  {
   "cell_type": "code",
   "execution_count": null,
   "outputs": [],
   "source": [
    "df.isna().sum()"
   ],
   "metadata": {
    "collapsed": false
   }
  },
  {
   "cell_type": "code",
   "execution_count": null,
   "outputs": [],
   "source": [
    "df.describe()"
   ],
   "metadata": {
    "collapsed": false
   }
  },
  {
   "cell_type": "markdown",
   "source": [
    "## Diseae frequence accorning to Sex"
   ],
   "metadata": {
    "collapsed": false
   }
  },
  {
   "cell_type": "code",
   "execution_count": null,
   "outputs": [],
   "source": [
    "df.sex.value_counts()\n",
    "# Sex: 1 male, 0 female"
   ],
   "metadata": {
    "collapsed": false
   }
  },
  {
   "cell_type": "code",
   "execution_count": null,
   "outputs": [],
   "source": [
    "# Compare target column with sex column\n",
    "pd.crosstab(df.target, df.sex)"
   ],
   "metadata": {
    "collapsed": false
   }
  },
  {
   "cell_type": "code",
   "execution_count": null,
   "outputs": [],
   "source": [
    " # create a plot of cross tab\n",
    "pd.crosstab(df.target, df.sex).plot(kind=\"bar\", figsize=(10, 6), color=[\"red\", \"blue\"])\n",
    "plt.title(\"Hear disease frequency for sex\")\n",
    "plt.xlabel(\" 0 No disease, 1 Disease\")\n",
    "plt.xlabel(\"Amount\")\n",
    "plt.legend([\"Femail\", \"Male\"])\n",
    "plt.xticks(rotation=0)"
   ],
   "metadata": {
    "collapsed": false
   }
  },
  {
   "cell_type": "code",
   "execution_count": null,
   "outputs": [],
   "source": [
    "df.head()"
   ],
   "metadata": {
    "collapsed": false
   }
  },
  {
   "cell_type": "code",
   "execution_count": null,
   "outputs": [],
   "source": [
    "df.thalach.value_counts()\n",
    "# Max hear rate achieved"
   ],
   "metadata": {
    "collapsed": false
   }
  },
  {
   "cell_type": "markdown",
   "source": [
    "### Age vs Max Heart rate for Heart Disease"
   ],
   "metadata": {
    "collapsed": false
   }
  },
  {
   "cell_type": "code",
   "execution_count": null,
   "outputs": [],
   "source": [
    " plt.figure(figsize=(10, 6))"
   ],
   "metadata": {
    "collapsed": false
   }
  },
  {
   "cell_type": "code",
   "execution_count": null,
   "outputs": [],
   "source": [
    "plt.scatter(df.age[df.target == 1],\n",
    "            df.thalach[df.target == 1],\n",
    "            c=\"red\")"
   ],
   "metadata": {
    "collapsed": false
   }
  },
  {
   "cell_type": "code",
   "execution_count": null,
   "outputs": [],
   "source": [
    "plt.scatter(df.age[df.target == 0],\n",
    "            df.thalach[df.target == 0],\n",
    "            c=\"blue\")"
   ],
   "metadata": {
    "collapsed": false
   }
  },
  {
   "cell_type": "code",
   "execution_count": null,
   "outputs": [],
   "source": [
    "plt.scatter(df.age[df.target == 1],\n",
    "            df.thalach[df.target == 1],\n",
    "            c=\"red\")\n",
    "\n",
    "plt.scatter(df.age[df.target == 0],\n",
    "            df.thalach[df.target == 0],\n",
    "            c=\"blue\")\n",
    "\n",
    "plt.title(\"Heart disease in function of age and max heart rate\")\n",
    "plt.xlabel(\"Age\")\n",
    "plt.ylabel(\"Max Heart rate\")\n",
    "plt.legend([\"Disease\", \"No Disease\"]);\n",
    "plt.xticks(rotation=0);"
   ],
   "metadata": {
    "collapsed": false
   }
  },
  {
   "cell_type": "code",
   "execution_count": null,
   "outputs": [],
   "source": [
    "# Check the distribution of the age\n",
    "df.age.plot.hist()"
   ],
   "metadata": {
    "collapsed": false
   }
  },
  {
   "cell_type": "markdown",
   "source": [
    "##  Heart disease frequency per chest pain type\n",
    "0: Typical Agina pain related to decrease blood supply\n",
    "1: Atypical Agina not related to heart disease\n",
    "2: Non-Agina Pain not related to heart disease\n",
    "3; Asymptomatic: chest pain not showing signs od disease"
   ],
   "metadata": {
    "collapsed": false
   }
  },
  {
   "cell_type": "code",
   "execution_count": null,
   "outputs": [],
   "source": [
    "pd.crosstab(df.cp, df.target)"
   ],
   "metadata": {
    "collapsed": false
   }
  },
  {
   "cell_type": "code",
   "execution_count": null,
   "outputs": [],
   "source": [
    "# make the cross tap more visual"
   ],
   "metadata": {
    "collapsed": false
   }
  },
  {
   "cell_type": "code",
   "execution_count": null,
   "outputs": [],
   "source": [
    "pd.crosstab(df.cp, df.target).plot(kind=\"bar\", figsize=(10, 6), color=[\"red\", \"blue\"])\n",
    "plt.title(\"Heart Disease Frequency Per Chest Pain Type\")\n",
    "plt.xlabel(\"Chest Pain Type\")\n",
    "plt.ylabel(\"Amount\")\n",
    "plt.legend([\"No Disease\", \"Disease\"])\n",
    "plt.xticks(rotation=0)"
   ],
   "metadata": {
    "collapsed": false
   }
  },
  {
   "cell_type": "markdown",
   "source": [
    "### Make a correlation matrix"
   ],
   "metadata": {
    "collapsed": false
   }
  },
  {
   "cell_type": "code",
   "execution_count": null,
   "outputs": [],
   "source": [
    "df.corr()"
   ],
   "metadata": {
    "collapsed": false
   }
  },
  {
   "cell_type": "code",
   "execution_count": null,
   "outputs": [],
   "source": [
    "# making the corr matrix prettier\n",
    "corr_matrix = df.corr()\n",
    "fig, ax = plt.subplots(figsize=(15, 10))\n",
    "ax = sns.heatmap(corr_matrix, annot=True, linewidths=0.5, fmt=\".2f\", cmap=\"YlGnBu\");"
   ],
   "metadata": {
    "collapsed": false
   }
  },
  {
   "cell_type": "markdown",
   "source": [
    "## Modelling\n",
    "   If we can reach minimum 95 percent of accuracy whether or not a patient had heart disease during the proof of concept\n"
   ],
   "metadata": {
    "collapsed": false
   }
  },
  {
   "cell_type": "code",
   "execution_count": null,
   "outputs": [],
   "source": [
    "df.head()"
   ],
   "metadata": {
    "collapsed": false
   }
  },
  {
   "cell_type": "code",
   "execution_count": null,
   "outputs": [],
   "source": [
    "# Split data into X , y\n",
    "X = df.drop(\"target\", axis=1)\n",
    "y = df[\"target\"]"
   ],
   "metadata": {
    "collapsed": false
   }
  },
  {
   "cell_type": "code",
   "execution_count": null,
   "outputs": [],
   "source": [
    "X.head()"
   ],
   "metadata": {
    "collapsed": false
   }
  },
  {
   "cell_type": "code",
   "execution_count": null,
   "outputs": [],
   "source": [
    "y.head()"
   ],
   "metadata": {
    "collapsed": false
   }
  },
  {
   "cell_type": "code",
   "execution_count": null,
   "outputs": [],
   "source": [
    "# Split data into train and test sets\n",
    "np.random.seed(42)\n",
    "X_train, X_test, y_train, y_test = train_test_split(X, y, test_size=0.2)"
   ],
   "metadata": {
    "collapsed": false
   }
  },
  {
   "cell_type": "code",
   "execution_count": null,
   "outputs": [],
   "source": [
    "X_train.head()"
   ],
   "metadata": {
    "collapsed": false
   }
  },
  {
   "cell_type": "code",
   "execution_count": null,
   "outputs": [],
   "source": [
    "y_train.head()"
   ],
   "metadata": {
    "collapsed": false
   }
  },
  {
   "cell_type": "code",
   "execution_count": null,
   "outputs": [],
   "source": [
    "X_train.shape"
   ],
   "metadata": {
    "collapsed": false
   }
  },
  {
   "cell_type": "code",
   "execution_count": null,
   "outputs": [],
   "source": [
    "y_train.shape"
   ],
   "metadata": {
    "collapsed": false
   }
  },
  {
   "cell_type": "code",
   "execution_count": null,
   "outputs": [],
   "source": [
    "# Now we have train and test, we build machine learning model and test the model using the test set\n",
    "# we want to classify if some one has heart disease, we use Random Forest classifiers.\n",
    "# we will try 3 different machine learning model\":\n",
    "# Logistic regression, K-nearest neighbors classifier, Random forest classifier"
   ],
   "metadata": {
    "collapsed": false
   }
  },
  {
   "cell_type": "code",
   "execution_count": null,
   "outputs": [],
   "source": [
    "# We put models in a dictionary\n",
    "models = {\"Logistic Regression\": LogisticRegression(),\n",
    "          \"KNN\": KNeighborsClassifier(),\n",
    "          \"Random Forest\": RandomForestClassifier()}\n",
    "\n",
    "\n",
    "# A function for fiting and scoring\n",
    "def fit_and_score(models, X_train, X_test, y_train, y_test):\n",
    "    \"\"\"\n",
    "    Fits and evaluates  given machine learning models.\n",
    "    models: a dict of different scikit learn machine learning models\n",
    "    \"\"\"\n",
    "    np.random.seed(42)\n",
    "\n",
    "    #make a dict to keep the model scores\n",
    "\n",
    "    model_scores = {}\n",
    "\n",
    "    # Loop through the models\n",
    "\n",
    "    for name, model in models.items():\n",
    "        #fitting the model\n",
    "        model.fit(X_train, y_train)\n",
    "\n",
    "        #Evaluate each model and appent its score to the model_scores dictionary\n",
    "        model_scores[name] = model.score(X_test, y_test)\n",
    "    return model_scores"
   ],
   "metadata": {
    "collapsed": false
   }
  },
  {
   "cell_type": "code",
   "execution_count": 73,
   "outputs": [
    {
     "name": "stderr",
     "output_type": "stream",
     "text": [
      "C:\\Users\\20215138\\.conda\\envs\\python-cvcourse\\lib\\site-packages\\sklearn\\linear_model\\_logistic.py:765: ConvergenceWarning: lbfgs failed to converge (status=1):\n",
      "STOP: TOTAL NO. of ITERATIONS REACHED LIMIT.\n",
      "\n",
      "Increase the number of iterations (max_iter) or scale the data as shown in:\n",
      "    https://scikit-learn.org/stable/modules/preprocessing.html\n",
      "Please also refer to the documentation for alternative solver options:\n",
      "    https://scikit-learn.org/stable/modules/linear_model.html#logistic-regression\n",
      "  extra_warning_msg=_LOGISTIC_SOLVER_CONVERGENCE_MSG)\n"
     ]
    },
    {
     "data": {
      "text/plain": "{'Logistic Regression': 0.8852459016393442,\n 'KNN': 0.6885245901639344,\n 'Random Forest': 0.8360655737704918}"
     },
     "execution_count": 73,
     "metadata": {},
     "output_type": "execute_result"
    }
   ],
   "source": [
    "model_scores = fit_and_score(models=models, X_train=X_train, X_test=X_test, y_train=y_train,y_test=y_test)\n",
    "model_scores"
   ],
   "metadata": {
    "collapsed": false
   }
  },
  {
   "cell_type": "markdown",
   "source": [
    "## Model Comparison"
   ],
   "metadata": {
    "collapsed": false
   }
  },
  {
   "cell_type": "code",
   "execution_count": 76,
   "outputs": [
    {
     "data": {
      "text/plain": "<AxesSubplot:>"
     },
     "execution_count": 76,
     "metadata": {},
     "output_type": "execute_result"
    },
    {
     "data": {
      "text/plain": "<Figure size 432x288 with 1 Axes>",
      "image/png": "[encoded data removed]"
     },
     "metadata": {
      "needs_background": "light"
     },
     "output_type": "display_data"
    }
   ],
   "source": [
    "model_compare= pd.DataFrame(model_scores, index=[\"accuracy\"])\n",
    "model_compare.T.plot.bar()"
   ],
   "metadata": {
    "collapsed": false
   }
  },
  {
   "cell_type": "code",
   "execution_count": 78,
   "outputs": [],
   "source": [
    "# Now we have a baseline model, we should tune hyperparameter, Feature importance, confusion matrix,\n",
    "# cross validation, precision, recall, F1 score, classificaiton report, F1 score, Roc curve, Area under the curve."
   ],
   "metadata": {
    "collapsed": false
   }
  },
  {
   "cell_type": "code",
   "execution_count": 79,
   "outputs": [],
   "source": [
    "## hyperparameter tuning of KNN\n",
    "train_score = []\n",
    "test_scores = []\n",
    "\n",
    "# Create a list of different values for N neighbors\n",
    "neighbors = range(1,21)\n",
    "\n",
    "# set up Knn instance\n",
    "\n",
    "knn = KNeighborsClassifier()\n",
    "\n",
    "#loop through the neighbors\n",
    "for i in neighbors:\n",
    "    knn.set_params(n_neighbors=i)\n",
    "    # fit the alg\n",
    "    knn.fit(X_train, y_train)\n",
    "\n",
    "    # update training scores list\n",
    "    train_score.append(knn.score(X_train, y_train))\n",
    "\n",
    "    # update the test scores list\n",
    "    test_scores.append(knn.score(X_test, y_test))"
   ],
   "metadata": {
    "collapsed": false
   }
  },
  {
   "cell_type": "code",
   "execution_count": 81,
   "outputs": [
    {
     "data": {
      "text/plain": "[1.0,\n 0.8099173553719008,\n 0.7727272727272727,\n 0.743801652892562,\n 0.7603305785123967,\n 0.7520661157024794,\n 0.743801652892562,\n 0.7231404958677686,\n 0.71900826446281,\n 0.6942148760330579,\n 0.7272727272727273,\n 0.6983471074380165,\n 0.6900826446280992,\n 0.6942148760330579,\n 0.6859504132231405,\n 0.6735537190082644,\n 0.6859504132231405,\n 0.6652892561983471,\n 0.6818181818181818,\n 0.6694214876033058]"
     },
     "execution_count": 81,
     "metadata": {},
     "output_type": "execute_result"
    }
   ],
   "source": [
    "train_score"
   ],
   "metadata": {
    "collapsed": false
   }
  },
  {
   "cell_type": "code",
   "execution_count": 82,
   "outputs": [
    {
     "data": {
      "text/plain": "[0.6229508196721312,\n 0.639344262295082,\n 0.6557377049180327,\n 0.6721311475409836,\n 0.6885245901639344,\n 0.7213114754098361,\n 0.7049180327868853,\n 0.6885245901639344,\n 0.6885245901639344,\n 0.7049180327868853,\n 0.7540983606557377,\n 0.7377049180327869,\n 0.7377049180327869,\n 0.7377049180327869,\n 0.6885245901639344,\n 0.7213114754098361,\n 0.6885245901639344,\n 0.6885245901639344,\n 0.7049180327868853,\n 0.6557377049180327]"
     },
     "execution_count": 82,
     "metadata": {},
     "output_type": "execute_result"
    }
   ],
   "source": [
    "test_scores"
   ],
   "metadata": {
    "collapsed": false
   }
  },
  {
   "cell_type": "code",
   "execution_count": 84,
   "outputs": [
    {
     "name": "stdout",
     "output_type": "stream",
     "text": [
      "max Knn score on the test data :  75.41%\n"
     ]
    },
    {
     "data": {
      "text/plain": "<Figure size 432x288 with 1 Axes>",
      "image/png": "[encoded data removed]"
     },
     "metadata": {
      "needs_background": "light"
     },
     "output_type": "display_data"
    }
   ],
   "source": [
    "plt.plot(neighbors, train_score, label=\"Train score\")\n",
    "plt.plot(neighbors, test_scores, label=\"Test score\")\n",
    "plt.xticks(np.arange(1,21,1))\n",
    "plt.xlabel(\"number of neighbors\")\n",
    "plt.ylabel(\"model score\")\n",
    "plt.legend()\n",
    "\n",
    "print(f\"max Knn score on the test data :  {max(test_scores) * 100:.2f}%\")"
   ],
   "metadata": {
    "collapsed": false
   }
  },
  {
   "cell_type": "code",
   "execution_count": null,
   "outputs": [],
   "source": [],
   "metadata": {
    "collapsed": false
   }
  }
 ],
 "metadata": {
  "kernelspec": {
   "display_name": "Python 3",
   "language": "python",
   "name": "python3"
  },
  "language_info": {
   "codemirror_mode": {
    "name": "ipython",
    "version": 2
   },
   "file_extension": ".py",
   "mimetype": "text/x-python",
   "name": "python",
   "nbconvert_exporter": "python",
   "pygments_lexer": "ipython2",
   "version": "2.7.6"
  }
 },
 "nbformat": 4,
 "nbformat_minor": 0
}
