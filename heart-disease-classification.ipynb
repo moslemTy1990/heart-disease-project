{
 "cells": [
  {
   "cell_type": "markdown",
   "source": [
    "# Predicting heart disease using machine learning\n",
    "This notebook looks into using many Python-based and data science libraries in an attempt to build a machine learning model to predict heart disease. In order to run successfully the program, the following command needs to be run for having the proper env: `conda env create --prefix ./env -f environment.yml`\n",
    "The following approach will be taken:\n",
    "1. Problem definition\n",
    "2. Data\n",
    "3. Evaluaiton\n",
    "4. Features\n",
    "5. Modelling\n",
    "6. Experimentaiton"
   ],
   "metadata": {
    "collapsed": false
   }
  },
  {
   "cell_type": "markdown",
   "source": [
    "## 1. Problem Definition\n",
    "Given a clinical dataset, can we predict if someone has heart disease?\n",
    "\n",
    "\n",
    "## 2. Data\n",
    "* Column Descriptions:\n",
    "* Id (Unique id for each patient)\n",
    "* Age (Age of the patient in years)\n",
    "* Origin (place of study)\n",
    "* Sex (Male/Female)\n",
    "* Cp chest pain type ([typical angina, atypical angina, non-anginal, asymptomatic])\n",
    "* Trestbps resting blood pressure (resting blood pressure (in mm Hg on admission to the hospital))\n",
    "* Chol (serum cholesterol in mg/dl)\n",
    "* Fbs (if fasting blood sugar > 120 mg/dl)\n",
    "* Restecg (resting electrocardiographic results)\n",
    "* -- Values: [normal, stt abnormality, lv hypertrophy]\n",
    "* Thalach: maximum heart rate achieved\n",
    "* Exang: exercise-induced angina (True/ False)\n",
    "* Oldpeak: ST depression induced by exercise relative to rest\n",
    "* Slope: the slope of the peak exercise ST segment\n",
    "* Ca: number of major vessels (0-3) colored by fluoroscopy\n",
    "* Thal: [normal; fixed defect; reversible defect]\n",
    "* Num: the predicted attribute\n",
    "\n",
    "The original data comes from Kaggle: https://www.kaggle.com/datasets/redwankarimsony/heart-disease-data\n",
    "\n",
    "\n",
    "## 3. Evaluation\n",
    "Checking is the accuracy of prediction can reach to 95%\n",
    "\n",
    "\n",
    "## 4. Features\n",
    "Creating a data dictionary\n"
   ],
   "metadata": {
    "collapsed": false
   }
  },
  {
   "cell_type": "code",
   "execution_count": 9,
   "outputs": [],
   "source": [
    "import  numpy as np\n",
    "import pandas as pd\n",
    "import matplotlib.pyplot as plt\n",
    "import seaborn as sns\n",
    "\n",
    "%matplotlib inline"
   ],
   "metadata": {
    "collapsed": false
   }
  },
  {
   "cell_type": "code",
   "execution_count": 10,
   "outputs": [],
   "source": [
    "from sklearn.linear_model import LogisticRegression\n",
    "from sklearn.neighbors import  KNeighborsClassifier\n",
    "from sklearn.ensemble import RandomForestClassifier"
   ],
   "metadata": {
    "collapsed": false
   }
  },
  {
   "cell_type": "code",
   "execution_count": 11,
   "outputs": [],
   "source": [
    "from sklearn.model_selection import train_test_split, cross_val_score\n",
    "from sklearn.model_selection import RandomizedSearchCV, GridSearchCV\n",
    "from sklearn.metrics import confusion_matrix, classification_report\n",
    "from sklearn.metrics import precision_score, recall_score, f1_score\n",
    "from sklearn.metrics import plot_roc_curve"
   ],
   "metadata": {
    "collapsed": false
   }
  },
  {
   "cell_type": "code",
   "execution_count": null,
   "outputs": [],
   "source": [],
   "metadata": {
    "collapsed": false
   }
  }
 ],
 "metadata": {
  "kernelspec": {
   "display_name": "Python 3",
   "language": "python",
   "name": "python3"
  },
  "language_info": {
   "codemirror_mode": {
    "name": "ipython",
    "version": 2
   },
   "file_extension": ".py",
   "mimetype": "text/x-python",
   "name": "python",
   "nbconvert_exporter": "python",
   "pygments_lexer": "ipython2",
   "version": "2.7.6"
  }
 },
 "nbformat": 4,
 "nbformat_minor": 0
}
